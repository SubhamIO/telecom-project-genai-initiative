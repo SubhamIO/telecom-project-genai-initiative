{
 "cells": [
  {
   "cell_type": "markdown",
   "id": "9da89587",
   "metadata": {},
   "source": [
    "## Importing Dependencies"
   ]
  },
  {
   "cell_type": "code",
   "execution_count": 1,
   "id": "5d0c0a86",
   "metadata": {},
   "outputs": [
    {
     "name": "stderr",
     "output_type": "stream",
     "text": [
      "/var/folders/2l/h792r8g56wx6dpj_tzgmky7m0000gn/T/ipykernel_90912/408873642.py:11: TqdmWarning: IProgress not found. Please update jupyter and ipywidgets. See https://ipywidgets.readthedocs.io/en/stable/user_install.html\n",
      "  from tqdm.autonotebook import tqdm as notebook_tqdm\n"
     ]
    }
   ],
   "source": [
    "# LangGraph agentic AI pipeline for structured data analysis\n",
    "from langchain.agents import create_sql_agent\n",
    "from langchain.agents.agent_toolkits import SQLDatabaseToolkit\n",
    "from langchain.sql_database import SQLDatabase\n",
    "from langgraph.graph import StateGraph, END, START\n",
    "import os\n",
    "from langchain_groq import ChatGroq\n",
    "from langchain_huggingface import HuggingFaceEmbeddings\n",
    "import os\n",
    "from dotenv import load_dotenv\n",
    "from tqdm.autonotebook import tqdm as notebook_tqdm\n",
    "from typing import TypedDict, Literal\n",
    "from pydantic import BaseModel\n",
    "from langchain_experimental.utilities import PythonREPL\n",
    "from langchain_core.tools import tool\n",
    "from typing import Annotated\n",
    "from typing import Literal\n",
    "from typing_extensions import TypedDict\n",
    "from langgraph.graph import MessagesState, END\n",
    "from langgraph.types import Command\n",
    "from langgraph.graph.message import add_messages\n",
    "from langchain_core.messages import SystemMessage\n"
   ]
  },
  {
   "cell_type": "markdown",
   "id": "b9e35353",
   "metadata": {},
   "source": [
    "## Load environment variables"
   ]
  },
  {
   "cell_type": "code",
   "execution_count": 2,
   "id": "31337124",
   "metadata": {},
   "outputs": [],
   "source": [
    "\n",
    "## Load environment variables\n",
    "load_dotenv()\n",
    "groq_api_key=os.getenv(\"GROQ_API_KEY\")\n",
    "os.environ[\"HF_TOKEN\"]=os.getenv(\"HF_TOKEN\")"
   ]
  },
  {
   "cell_type": "markdown",
   "id": "e619d97c",
   "metadata": {},
   "source": [
    "## Load CSV files to SQLite DB"
   ]
  },
  {
   "cell_type": "code",
   "execution_count": 3,
   "id": "f02267dc",
   "metadata": {},
   "outputs": [],
   "source": [
    "import pandas as pd\n",
    "import sqlite3\n",
    "\n",
    "def csv_to_sqlite(csv_file_path, sqlite_db_path, table_name):\n",
    "    # Load CSV into DataFrame\n",
    "    df = pd.read_csv(csv_file_path)\n",
    "\n",
    "    # Connect to SQLite database (creates it if it doesn't exist)\n",
    "    conn = sqlite3.connect(sqlite_db_path)\n",
    "\n",
    "    # Write the DataFrame to SQLite table\n",
    "    df.to_sql(table_name, conn, if_exists='replace', index=False)\n",
    "\n",
    "    # Close the connection\n",
    "    conn.close()\n",
    "\n",
    "    print(f\"CSV '{csv_file_path}' has been imported into SQLite DB '{sqlite_db_path}' as table '{table_name}'.\")\n",
    "\n",
    "\n"
   ]
  },
  {
   "cell_type": "code",
   "execution_count": 4,
   "id": "bc787710",
   "metadata": {},
   "outputs": [
    {
     "name": "stdout",
     "output_type": "stream",
     "text": [
      "CSV 'customer_features_long_format.csv' has been imported into SQLite DB 'nqes.db' as table 'customer_features_long_format'.\n"
     ]
    }
   ],
   "source": [
    "csv_to_sqlite('customer_features_long_format.csv', 'nqes.db', 'customer_features_long_format')\n"
   ]
  },
  {
   "cell_type": "code",
   "execution_count": 5,
   "id": "ebfff9b4",
   "metadata": {},
   "outputs": [
    {
     "name": "stdout",
     "output_type": "stream",
     "text": [
      "CSV 'customer_scores_long_format.csv' has been imported into SQLite DB 'nqes.db' as table 'customer_scores_long_format'.\n"
     ]
    }
   ],
   "source": [
    "csv_to_sqlite('customer_scores_long_format.csv', 'nqes.db', 'customer_scores_long_format')"
   ]
  },
  {
   "cell_type": "code",
   "execution_count": 6,
   "id": "aa05fb8a",
   "metadata": {},
   "outputs": [],
   "source": [
    "# Load SQLite DB\n",
    "db = SQLDatabase.from_uri(\"sqlite:///nqes.db\")"
   ]
  },
  {
   "cell_type": "code",
   "execution_count": 7,
   "id": "12a5bf62",
   "metadata": {},
   "outputs": [
    {
     "name": "stdout",
     "output_type": "stream",
     "text": [
      "['customer_features_long_format', 'customer_scores_long_format']\n"
     ]
    }
   ],
   "source": [
    "print(db.get_usable_table_names())\n"
   ]
  },
  {
   "cell_type": "code",
   "execution_count": 8,
   "id": "72b5c725",
   "metadata": {},
   "outputs": [
    {
     "name": "stdout",
     "output_type": "stream",
     "text": [
      "\n",
      "CREATE TABLE customer_features_long_format (\n",
      "\tcustomer_id TEXT, \n",
      "\tfeature_name TEXT, \n",
      "\tfeature_value REAL\n",
      ")\n",
      "\n",
      "/*\n",
      "3 rows from customer_features_long_format table:\n",
      "customer_id\tfeature_name\tfeature_value\n",
      "CUST_000\trsrp\t43.2\n",
      "CUST_000\tsinr\t52.32\n",
      "CUST_000\tshap_rsrp\t2.93\n",
      "*/\n",
      "\n",
      "\n",
      "CREATE TABLE customer_scores_long_format (\n",
      "\tcustomer_id TEXT, \n",
      "\tscore_name TEXT, \n",
      "\tscore_value REAL\n",
      ")\n",
      "\n",
      "/*\n",
      "3 rows from customer_scores_long_format table:\n",
      "customer_id\tscore_name\tscore_value\n",
      "CUST_000\tmain_score\t4.37\n",
      "CUST_000\tsignal_quality_subscore\t9.56\n",
      "CUST_001\tmain_score\t7.59\n",
      "*/\n"
     ]
    }
   ],
   "source": [
    "print(db.get_table_info(table_names=db.get_usable_table_names()))"
   ]
  },
  {
   "cell_type": "code",
   "execution_count": 9,
   "id": "cd0fde85",
   "metadata": {},
   "outputs": [
    {
     "name": "stdout",
     "output_type": "stream",
     "text": [
      "CUST_000|rsrp|43.2\n",
      "CUST_000|sinr|52.32\n",
      "CUST_000|shap_rsrp|2.93\n",
      "CUST_000|shap_sinr|-7.14\n",
      "CUST_001|rsrp|68.66\n"
     ]
    }
   ],
   "source": [
    "## Let's read the data and check whether it got populated in DB or not\n",
    "!sqlite3 nqes.db \"SELECT * FROM customer_features_long_format LIMIT 5 \""
   ]
  },
  {
   "cell_type": "markdown",
   "id": "688d42f5",
   "metadata": {},
   "source": [
    "# Load LLM"
   ]
  },
  {
   "cell_type": "code",
   "execution_count": 292,
   "id": "2836fcdc",
   "metadata": {},
   "outputs": [],
   "source": [
    "# Load LLM\n",
    "load_dotenv()\n",
    "llm = ChatGroq(groq_api_key=os.getenv(\"GROQ_API_KEY\"), model=\"llama3-70b-8192\", temperature=0)\n",
    "# llm = ChatGroq(groq_api_key=os.getenv(\"GROQ_API_KEY_3\") ,model=\"llama3-70b-8192\", temperature=0)\n",
    "\n",
    "\n"
   ]
  },
  {
   "cell_type": "markdown",
   "id": "89fdd381",
   "metadata": {},
   "source": [
    "## Load Memory"
   ]
  },
  {
   "cell_type": "code",
   "execution_count": 293,
   "id": "58b5ba6a",
   "metadata": {},
   "outputs": [],
   "source": [
    "# Add memory for persistence across interactions\n",
    "from langgraph.checkpoint.memory import MemorySaver\n",
    "memory = MemorySaver()"
   ]
  },
  {
   "cell_type": "markdown",
   "id": "4c885a59",
   "metadata": {},
   "source": [
    "## Define State Schema"
   ]
  },
  {
   "cell_type": "code",
   "execution_count": 294,
   "id": "1d3f37ce",
   "metadata": {},
   "outputs": [],
   "source": [
    "\n",
    "# class State(TypedDict):\n",
    "#     messages: Annotated[list, add_messages]\n",
    "#     next: str\n",
    "\n",
    "class State(TypedDict):\n",
    "    messages: Annotated[list, add_messages]\n",
    "    next: str\n",
    "    coder_task_done: bool"
   ]
  },
  {
   "cell_type": "markdown",
   "id": "b70e54ec",
   "metadata": {},
   "source": [
    "## Define the Text to SQL Agent"
   ]
  },
  {
   "cell_type": "code",
   "execution_count": 295,
   "id": "320b1b94",
   "metadata": {},
   "outputs": [],
   "source": [
    "# Create SQL agent\n",
    "sql_toolkit = SQLDatabaseToolkit(db=db, llm=llm)\n",
    "# sql_agent = create_sql_agent(llm=llm, toolkit=sql_toolkit, verbose=True)"
   ]
  },
  {
   "cell_type": "code",
   "execution_count": 296,
   "id": "a563734a",
   "metadata": {},
   "outputs": [],
   "source": [
    "\n",
    "SQL_PREFIX = \"\"\"You are an agent designed to interact with a SQL database in SQLite.\n",
    "You have access to the following database schema:\n",
    "\n",
    "  Table: customer_features_long_format\n",
    "    customer_id (TEXT NOT NULL)\n",
    "    feature_name (TEXT NOT NULL)\n",
    "    feature_value (REAL NOT NULL)\n",
    "\n",
    "  Table: customer_scores_long_format\n",
    "    customer_id (TEXT NOT NULL)\n",
    "    score_name (TEXT NOT NULL)\n",
    "    score_value (REAL NOT NULL)\n",
    " \n",
    "Given an input question, create a syntactically correct SQLite query to run, then look at the results of the query and return the answer.\n",
    "Unless the user specifies a specific number of examples they wish to obtain, never limit your query to a specific number of results.\n",
    "Make sure you generate a correct SQLite query as plain text without any formatting or code blocks.\n",
    "Do not include sql or similar markers.\n",
    "Do not try to explain the query, just provide the query as-is, like this: SELECT ...\n",
    "\n",
    "You have access to tools for interacting with the database.\n",
    "Only use the below tools. Only use the information returned by the below tools to construct your final answer.\n",
    "\n",
    "You MUST double check your query before executing it. If you get an error while executing a query, rewrite the query and try again.\n",
    "DO NOT make any DML statements (INSERT, UPDATE, DELETE, DROP etc.) to the database even if the user asks.\n",
    "\n",
    "To start you should ALWAYS look at the tables in the database to see what you can query.\n",
    "Do NOT skip this step.\n",
    "Then you should query the schema of the most relevant tables.\n",
    "\n",
    "When generating the final answer in markdown from the results,\n",
    "make sure to print the entire result in Markdown format.\n",
    "If there are special characters in the text, such as the dollar symbol,\n",
    "ensure they are escaped properly for correct rendering e.g $25.5 should become $25.5\n",
    "\"\"\"\n",
    "\n",
    "SYS_PROMPT = SystemMessage(content=SQL_PREFIX)\n",
    "     "
   ]
  },
  {
   "cell_type": "code",
   "execution_count": 297,
   "id": "5ee4e4d7",
   "metadata": {},
   "outputs": [],
   "source": [
    "from langchain_core.messages import HumanMessage\n",
    "from langgraph.prebuilt import create_react_agent\n",
    "from langchain_openai import ChatOpenAI\n",
    "sql_toolkit = SQLDatabaseToolkit(db=db, llm=llm)\n",
    "sql_tools = sql_toolkit.get_tools()\n",
    "\n",
    "text2sql_agent = create_react_agent(model=llm,\n",
    "                                    tools=sql_tools,\n",
    "                                    state_modifier=SYS_PROMPT)\n",
    "\n"
   ]
  },
  {
   "cell_type": "code",
   "execution_count": 298,
   "id": "6e9e2402",
   "metadata": {},
   "outputs": [
    {
     "data": {
      "image/png": "[encoded data removed]",
      "text/plain": [
       "<langgraph.graph.state.CompiledStateGraph object at 0x16540e9d0>"
      ]
     },
     "execution_count": 298,
     "metadata": {},
     "output_type": "execute_result"
    }
   ],
   "source": [
    "text2sql_agent"
   ]
  },
  {
   "cell_type": "code",
   "execution_count": 299,
   "id": "bfca198e",
   "metadata": {},
   "outputs": [],
   "source": [
    "# from IPython.display import display, Image, Markdown\n",
    "\n",
    "# def call_pipeline_react(agent, prompt, user_session_id, verbose=False):\n",
    "#     events = agent.stream(\n",
    "#         {\"messages\": [{\"role\": \"user\", \"content\": prompt}]},\n",
    "#         {\"configurable\": {\"thread_id\": user_session_id}},\n",
    "#         stream_mode=\"values\",\n",
    "#     )\n",
    "\n",
    "#     print('Running Agent. Please wait...')\n",
    "#     for event in events:\n",
    "#         if verbose:\n",
    "#             event[\"messages\"][-1].pretty_print()\n",
    "\n",
    "#     display(Markdown(event[\"messages\"][-1].content))"
   ]
  },
  {
   "cell_type": "code",
   "execution_count": 300,
   "id": "ed67379f",
   "metadata": {},
   "outputs": [],
   "source": [
    "# import pandas as pd\n",
    "# df = pd.read_csv('customer_features_long_format.csv')\n",
    "# df.groupby(['feature_name'])['feature_value'].mean().reset_index()"
   ]
  },
  {
   "cell_type": "code",
   "execution_count": 301,
   "id": "b59a3ae8",
   "metadata": {},
   "outputs": [],
   "source": [
    "# questions = [\n",
    "#     \"Fetch the average feature values of different feature names for CUST_001\",\"CUST_002\",\"CUST_003\",\"CUST_004\",\"CUST_005\"\n",
    "# ]\n",
    "\n",
    "# # Execute pipeline\n",
    "# for q in questions:\n",
    "#     uid = 'subham009'\n",
    "#     call_pipeline_react(agent=text2sql_agent,\n",
    "#                             prompt=q,\n",
    "#                             user_session_id=uid,\n",
    "#                             verbose=True)\n",
    "\n",
    "# # response = text2sql_agent.invoke(questions[0])\n",
    "# # print(response)"
   ]
  },
  {
   "cell_type": "markdown",
   "id": "e51c6e98",
   "metadata": {},
   "source": [
    "## Define the Python Coder Agent"
   ]
  },
  {
   "cell_type": "code",
   "execution_count": 302,
   "id": "ed61b3d7",
   "metadata": {},
   "outputs": [],
   "source": [
    "from IPython.display import display, Image, Markdown\n"
   ]
  },
  {
   "cell_type": "code",
   "execution_count": 303,
   "id": "ac8db290",
   "metadata": {},
   "outputs": [],
   "source": [
    "# create node function for financial researcher sub-agent\n",
    "def research_node(state: State) -> Command[Literal[\"supervisor\"]]:\n",
    "    result = text2sql_agent.invoke(state)\n",
    "    return Command(\n",
    "        update={\n",
    "            \"messages\": [\n",
    "                HumanMessage(content=result[\"messages\"][-1].content, name=\"researcher\")\n",
    "            ]\n",
    "        },\n",
    "        goto=\"supervisor\",\n",
    "    )"
   ]
  },
  {
   "cell_type": "code",
   "execution_count": 304,
   "id": "78ff7782",
   "metadata": {},
   "outputs": [],
   "source": [
    "repl = PythonREPL()\n",
    "\n",
    "@tool\n",
    "def python_repl_tool(\n",
    "    code: Annotated[str, \"The python code to execute code, generate charts.\"],\n",
    "):\n",
    "    \"\"\"Use this to execute python code and do math. If you want to see the output of a value,\n",
    "    you should print it out with `print(...)`. This is visible to the user.\"\"\"\n",
    "    try:\n",
    "        result = repl.run(code)\n",
    "    except BaseException as e:\n",
    "        return f\"Failed to execute. Error: {repr(e)}\"\n",
    "    result_str = f\"Successfully executed:\\n```python\\n{code}\\n```\\nCODE OUTPUT:\\n {result}\"\n",
    "    return result_str"
   ]
  },
  {
   "cell_type": "code",
   "execution_count": 305,
   "id": "76151161",
   "metadata": {},
   "outputs": [],
   "source": [
    "# Create Coder Sub-Agent\n",
    "code_agent = create_react_agent(llm, tools=[python_repl_tool], state_modifier=\"\"\"You are a coder who can write and run python code and also visualize charts and graphs.\n",
    "                                                                                 Extract entire data related to the question before running code or creating graphs.\n",
    "                                                                                 For fetching data from the database, use the researcher agent.\n",
    "                                                                                 Use the python repl tool to execute code and generate charts.\n",
    "                                                                                 Once your task is done report back to the supervisor.\"\"\")\n"
   ]
  },
  {
   "cell_type": "code",
   "execution_count": 306,
   "id": "ffa153db",
   "metadata": {},
   "outputs": [
    {
     "data": {
      "image/png": "[encoded data removed]",
      "text/plain": [
       "<langgraph.graph.state.CompiledStateGraph object at 0x1653ccb10>"
      ]
     },
     "execution_count": 306,
     "metadata": {},
     "output_type": "execute_result"
    }
   ],
   "source": [
    "code_agent"
   ]
  },
  {
   "cell_type": "code",
   "execution_count": 307,
   "id": "3b2e5b95",
   "metadata": {},
   "outputs": [],
   "source": [
    "\n",
    "def code_node(state: dict) -> Command[Literal[\"supervisor\"]]:\n",
    "    result = code_agent.invoke(state)\n",
    "    final_msg = result[\"messages\"][-1].content\n",
    "    coder_task_done = \"successfully\" in final_msg\n",
    "    return Command(\n",
    "        update={\n",
    "            \"messages\": [HumanMessage(content=final_msg, name=\"coder\")],\n",
    "            \"coder_task_done\": coder_task_done\n",
    "        },\n",
    "        goto=\"supervisor\",\n",
    "    )"
   ]
  },
  {
   "cell_type": "markdown",
   "id": "0aec1611",
   "metadata": {},
   "source": [
    "## Define the Insights Generator Node"
   ]
  },
  {
   "cell_type": "code",
   "execution_count": 308,
   "id": "216c9aa5",
   "metadata": {},
   "outputs": [],
   "source": [
    "def insights_generator_node(state: dict) -> Command[Literal[\"supervisor\"]]:\n",
    "    # Extract researcher message\n",
    "    researcher_output = next((msg.content for msg in state[\"messages\"] if msg.name == \"researcher\"), None)\n",
    "    if not researcher_output:\n",
    "        return Command(update={\"messages\": [HumanMessage(content=\"No researcher data found.\", name=\"insights_generator\")]}, goto=\"supervisor\")\n",
    "\n",
    "    # Extract values using regex based on known markdown format\n",
    "    # def extract(pattern, text, default=\"NA\"):\n",
    "    #     match = re.search(pattern, text)\n",
    "    #     return match.group(1).strip() if match else default\n",
    "\n",
    "    # customer_id = extract(r\"customer_id\\s*=\\s*'([^']+)'\", researcher_output)\n",
    "    # main_score = extract(r\"\\* main_score:\\s*([\\d\\.]+)\", researcher_output)\n",
    "    # signal_quality_subscore = extract(r\"\\* signal_quality_subscore:\\s*([\\d\\.]+)\", researcher_output)\n",
    "    # rsrp = extract(r\"\\* rsrp:\\s*([\\d\\.]+)\", researcher_output)\n",
    "    # sinr = extract(r\"\\* sinr:\\s*([\\d\\.]+)\", researcher_output)\n",
    "    # shap_rsrp = extract(r\"\\+ shap_rsrp:\\s*([-+]?\\d*\\.?\\d+)\", researcher_output)\n",
    "    # shap_sinr = extract(r\"\\+ shap_sinr:\\s*([-+]?\\d*\\.?\\d+)\", researcher_output)\n",
    "\n",
    "    # Construct dynamic prompt\n",
    "    insight_prompt = f\"\"\"\n",
    "Act as a Customer Experience Analyst, responsible for interpreting and communicating complex data insights to stakeholders.\n",
    "Given the following Customer ID, KPI values, SHAP values, and scores for a customer ,\n",
    "provide a natural language summary explaining why the customer's experience score is the way it is.\n",
    "\n",
    "          **Customer Experience Score Breakdown:**\n",
    "\n",
    "                - **Overall Experience Score:** [main_score] (1-10, higher is better)\n",
    "                - **Subscores:**\n",
    "                - **Signal Quality:** [signal_quality_subscore] (1-10, higher is better)\n",
    "                - **KPI Values:**\n",
    "                - **Reference Signal Received Power:** [rsrp]\n",
    "                - **Signal to Interference plus Noise Ratio:** [sinr]\n",
    "                - **SHAP Values:**\n",
    "                - **Reference Signal Received Power SHAP value:** [shap_rsrp]\n",
    "                - **Signal to Interference plus Noise Ratio SHAP value:** [shap_sinr]\n",
    "\n",
    "          Refer to these for Customer ID, KPI values, SHAP values, and scores:\n",
    "          {researcher_output}\n",
    "\n",
    "**Your Task:**\n",
    "- Explain which KPIs are positively or negatively contributing to the experience score.\n",
    "- Determine whether SHAP values align with KPI values.\n",
    "- Identify the main reasons for a high or low score.\n",
    "- Point out any discrepancies between SHAP and KPI values.\n",
    "- Provide clear, actionable insights understandable to non-technical stakeholders.\n",
    "\"\"\"\n",
    "\n",
    "    result = llm.invoke([HumanMessage(content=insight_prompt)])\n",
    "    return Command(\n",
    "        update={\"messages\": [HumanMessage(content=result.content, name=\"insights_generator\")]},\n",
    "        goto=\"supervisor\",\n",
    "    )\n",
    "\n",
    "    "
   ]
  },
  {
   "cell_type": "code",
   "execution_count": null,
   "id": "0fb1aabc",
   "metadata": {},
   "outputs": [],
   "source": []
  },
  {
   "cell_type": "markdown",
   "id": "45c33257",
   "metadata": {},
   "source": [
    "## Define the Supervisor Agent\n",
    "- including  n-shot prompting to introduce some level of compliance to handle out os scope queries"
   ]
  },
  {
   "cell_type": "code",
   "execution_count": null,
   "id": "ba3e8d84",
   "metadata": {},
   "outputs": [],
   "source": [
    "from typing import Literal\n",
    "from typing_extensions import TypedDict\n",
    "from langgraph.graph import END\n",
    "from langgraph.types import Command\n",
    "import json\n",
    "\n",
    "# Define Router Output Schema\n",
    "class Router(TypedDict):\n",
    "    next: Literal[\"researcher\", \"coder\", \"insights_generator\", \"FINISH\"]\n",
    "    message: str  # Optional user-facing message\n",
    "\n",
    "# Define Supervisor Prompt\n",
    "members = [\"researcher\", \"coder\", \"insights_generator\"]\n",
    "\n",
    "SUPERVISOR_AGENT_PROMPT = f\"\"\"\n",
    "You are a supervisor managing a conversation between the following workers:\n",
    "{members}.\n",
    "\n",
    "Each worker has a specific skill:\n",
    "- researcher → SQL querying on structured customer experience data\n",
    "- coder → chart generation and visualizations\n",
    "- insights_generator → customer insights and KPI explanation\n",
    "\n",
    "Your job is to decide which worker should act next based on the user's query.\n",
    "\n",
    "---\n",
    "\n",
    "❌ Rule 1: If the input is rude, toxic, or disrespectful (e.g., \"Are you stupid?\"), \n",
    "respond with: next = \"FINISH\", message = \"Your query seems disrespectful. Please rephrase respectfully.\"\n",
    "\n",
    "ℹ️ Rule 2: If the input is a general knowledge or technical education question (e.g., \"What is attention mechanism?\"), \n",
    "respond with: next = \"FINISH\", message = \"This is a general knowledge or educational query. I can only help with structured customer data.\"\n",
    "\n",
    "✅ Rule 3: If the query is about structured customer KPIs, plots, scores, SHAP values, etc., \n",
    "respond with next = one of [\"researcher\", \"coder\", \"insights_generator\"]. You may omit message if valid.\n",
    "\n",
    "---\n",
    "\n",
    "⚠️ VERY IMPORTANT:\n",
    "Respond ONLY in this exact JSON format:\n",
    "\n",
    "{{\n",
    "  \"next\": \"researcher\" | \"coder\" | \"insights_generator\" | \"FINISH\",\n",
    "  \"message\": \"<optional user-facing message>\"\n",
    "}}\n",
    "\n",
    "✅ Examples:\n",
    "{{ \"next\": \"researcher\" }}\n",
    "{{ \"next\": \"FINISH\", \"message\": \"This is a general knowledge question. I can only help with structured customer data.\" }}\n",
    "\n",
    "❌ Do NOT include explanations, markdown, or text outside the JSON. The response MUST be raw valid JSON only.\n",
    "\"\"\"\n",
    "\n",
    "# Define Supervisor Node\n",
    "def supervisor_node(state: State) -> Command[Literal[\"researcher\", \"coder\", \"insights_generator\", \"__end__\"]]:\n",
    "    if state.get(\"coder_task_done\", False):\n",
    "        return Command(goto=END)\n",
    "\n",
    "    # Compose full chat history\n",
    "    messages = [{\"role\": \"system\", \"content\": SUPERVISOR_AGENT_PROMPT}] + state[\"messages\"]\n",
    "\n",
    "    # Get raw LLM response from Groq model (e.g., llama3-8b-instant)\n",
    "    raw_response = llm.invoke(messages).content\n",
    "\n",
    "    try:\n",
    "        # Extract valid JSON even if markdown is wrapped\n",
    "        json_start = raw_response.find(\"{\")\n",
    "        json_end = raw_response.rfind(\"}\") + 1\n",
    "        parsed: Router = json.loads(raw_response[json_start:json_end])\n",
    "        goto = parsed[\"next\"]\n",
    "        message = parsed.get(\"message\")\n",
    "\n",
    "        # ✅ DEBUG PRINT HERE\n",
    "        print(f\"\\n🔍 Routed Agents: {goto}\")\n",
    "        if message:\n",
    "            print(f\"📩 Supervisor Message: {message}\\n\")\n",
    "    except Exception:\n",
    "        # fallback safe default\n",
    "        goto = \"FINISH\"\n",
    "        message = \"This seems to be a general knowledge or unsupported question. I can only help with structured customer data.\"\n",
    "\n",
    "    update = {\"next\": goto}\n",
    "    if message:\n",
    "        update[\"messages\"] = state[\"messages\"] + [{\"role\": \"system\", \"content\": message}]\n",
    "\n",
    "    return Command(goto=END if goto == \"FINISH\" else goto, update=update)\n"
   ]
  },
  {
   "cell_type": "markdown",
   "id": "af5f0d26",
   "metadata": {},
   "source": [
    "## Build agent graph"
   ]
  },
  {
   "cell_type": "code",
   "execution_count": 328,
   "id": "53cd58b4",
   "metadata": {},
   "outputs": [],
   "source": [
    "# # build the agent graph\n",
    "\n",
    "builder = StateGraph(State)\n",
    "builder.add_node(\"researcher\", research_node)\n",
    "builder.add_node(\"coder\", code_node)\n",
    "builder.add_node(\"insights_generator\", insights_generator_node)\n",
    "builder.add_node(\"supervisor\", supervisor_node)\n",
    "builder.set_entry_point(\"supervisor\")\n",
    "builder.add_edge(START, \"supervisor\")\n",
    "builder.add_edge(\"researcher\", \"supervisor\")\n",
    "builder.add_edge(\"coder\", \"supervisor\")\n",
    "builder.add_edge(\"insights_generator\", \"supervisor\")\n",
    "graph = builder.compile()\n",
    "\n",
    "\n"
   ]
  },
  {
   "cell_type": "code",
   "execution_count": 329,
   "id": "e6a4b74d",
   "metadata": {},
   "outputs": [
    {
     "data": {
      "image/png": "[encoded data removed]",
      "text/plain": [
       "<IPython.core.display.Image object>"
      ]
     },
     "metadata": {},
     "output_type": "display_data"
    }
   ],
   "source": [
    "from IPython.display import display, Image\n",
    "\n",
    "display(Image(graph.get_graph(xray=True).draw_mermaid_png()))"
   ]
  },
  {
   "cell_type": "markdown",
   "id": "1925fe8e",
   "metadata": {},
   "source": [
    "## Test"
   ]
  },
  {
   "cell_type": "code",
   "execution_count": 330,
   "id": "f147e9ba",
   "metadata": {},
   "outputs": [],
   "source": [
    "def call_multi_agent_system(agent, prompt):\n",
    "    events = agent.stream(\n",
    "        {\"messages\": [(\"user\", prompt)]},\n",
    "        {\"recursion_limit\": 150},\n",
    "        stream_mode=\"values\",\n",
    "\n",
    "    )\n",
    "\n",
    "    for event in events:\n",
    "        event[\"messages\"][-1].pretty_print()\n",
    "\n",
    "    display(Markdown(event[\"messages\"][-1].content))"
   ]
  },
  {
   "cell_type": "code",
   "execution_count": 331,
   "id": "5ea4721b",
   "metadata": {},
   "outputs": [],
   "source": [
    "class State(TypedDict):\n",
    "    messages: Annotated[list, add_messages]\n",
    "    next: str\n",
    "    coder_task_done: bool"
   ]
  },
  {
   "cell_type": "code",
   "execution_count": 336,
   "id": "3ed13b4d",
   "metadata": {},
   "outputs": [
    {
     "name": "stdout",
     "output_type": "stream",
     "text": [
      "================================\u001b[1m Human Message \u001b[0m=================================\n",
      "\n",
      "are you an idiot?\n",
      "\n",
      "🔍 Routed Agents: FINISH\n",
      "📩 Supervisor Message: Your query seems disrespectful. Please rephrase respectfully.\n",
      "\n",
      "================================\u001b[1m System Message \u001b[0m================================\n",
      "\n",
      "Your query seems disrespectful. Please rephrase respectfully.\n"
     ]
    },
    {
     "data": {
      "text/markdown": [
       "Your query seems disrespectful. Please rephrase respectfully."
      ],
      "text/plain": [
       "<IPython.core.display.Markdown object>"
      ]
     },
     "metadata": {},
     "output_type": "display_data"
    }
   ],
   "source": [
    "call_multi_agent_system(graph, \"are you an idiot?\")\n"
   ]
  },
  {
   "cell_type": "code",
   "execution_count": 334,
   "id": "66948c2e",
   "metadata": {},
   "outputs": [
    {
     "name": "stdout",
     "output_type": "stream",
     "text": [
      "================================\u001b[1m Human Message \u001b[0m=================================\n",
      "\n",
      "what is attention mechanism?\n",
      "\n",
      "🔍 Routed Agents: FINISH\n",
      "📩 Supervisor Message: This is a general knowledge or educational query. I can only help with structured customer data.\n",
      "\n",
      "================================\u001b[1m System Message \u001b[0m================================\n",
      "\n",
      "This is a general knowledge or educational query. I can only help with structured customer data.\n"
     ]
    },
    {
     "data": {
      "text/markdown": [
       "This is a general knowledge or educational query. I can only help with structured customer data."
      ],
      "text/plain": [
       "<IPython.core.display.Markdown object>"
      ]
     },
     "metadata": {},
     "output_type": "display_data"
    }
   ],
   "source": [
    "call_multi_agent_system(graph, \"what is attention mechanism?\")\n"
   ]
  },
  {
   "cell_type": "code",
   "execution_count": 333,
   "id": "6dc65f5f",
   "metadata": {},
   "outputs": [
    {
     "name": "stdout",
     "output_type": "stream",
     "text": [
      "================================\u001b[1m Human Message \u001b[0m=================================\n",
      "\n",
      "Fetch KPI, SHAP and scores for customer_id = 'CUST_003' and then plot rsrp and sinr as bar chart\n",
      "\n",
      "🔍 Routed Agents: researcher\n",
      "================================\u001b[1m Human Message \u001b[0m=================================\n",
      "\n",
      "Fetch KPI, SHAP and scores for customer_id = 'CUST_003' and then plot rsrp and sinr as bar chart\n",
      "================================\u001b[1m Human Message \u001b[0m=================================\n",
      "Name: researcher\n",
      "\n",
      "Here is the answer in Markdown format:\n",
      "\n",
      "**KPI and SHAP for customer_id 'CUST_003'**\n",
      "Not available\n",
      "\n",
      "**Scores for customer_id 'CUST_003'**\n",
      "* main_score: 1.52\n",
      "* signal_quality_subscore: 8.8\n",
      "\n",
      "**Bar chart of rsrp and sinr for customer_id 'CUST_003'**\n",
      "```\n",
      "rsrp: 59.63\n",
      "sinr: 54.13\n",
      "```\n",
      "Note: Since we are in a text-based environment, I couldn't generate a visual bar chart. Instead, I provided the values in a simple text format.\n",
      "\n",
      "🔍 Routed Agents: coder\n",
      "================================\u001b[1m Human Message \u001b[0m=================================\n",
      "Name: researcher\n",
      "\n",
      "Here is the answer in Markdown format:\n",
      "\n",
      "**KPI and SHAP for customer_id 'CUST_003'**\n",
      "Not available\n",
      "\n",
      "**Scores for customer_id 'CUST_003'**\n",
      "* main_score: 1.52\n",
      "* signal_quality_subscore: 8.8\n",
      "\n",
      "**Bar chart of rsrp and sinr for customer_id 'CUST_003'**\n",
      "```\n",
      "rsrp: 59.63\n",
      "sinr: 54.13\n",
      "```\n",
      "Note: Since we are in a text-based environment, I couldn't generate a visual bar chart. Instead, I provided the values in a simple text format.\n"
     ]
    },
    {
     "data": {
      "image/png": "[encoded data removed]",
      "text/plain": [
       "<Figure size 640x480 with 1 Axes>"
      ]
     },
     "metadata": {},
     "output_type": "display_data"
    },
    {
     "name": "stdout",
     "output_type": "stream",
     "text": [
      "================================\u001b[1m Human Message \u001b[0m=================================\n",
      "Name: coder\n",
      "\n",
      "The code has been executed successfully, and the bar chart has been generated. However, since we are in a text-based environment, the chart cannot be displayed visually. Instead, I can provide you with a text-based representation of the chart.\n",
      "\n",
      "**Bar chart of rsrp and sinr for customer_id 'CUST_003'**\n",
      "\n",
      "```\n",
      "rsrp: 59.63 |*********\n",
      "sinr: 54.13 |******\n",
      "```\n",
      "\n",
      "Please let me know if you need anything else!\n"
     ]
    },
    {
     "data": {
      "text/markdown": [
       "The code has been executed successfully, and the bar chart has been generated. However, since we are in a text-based environment, the chart cannot be displayed visually. Instead, I can provide you with a text-based representation of the chart.\n",
       "\n",
       "**Bar chart of rsrp and sinr for customer_id 'CUST_003'**\n",
       "\n",
       "```\n",
       "rsrp: 59.63 |*********\n",
       "sinr: 54.13 |******\n",
       "```\n",
       "\n",
       "Please let me know if you need anything else!"
      ],
      "text/plain": [
       "<IPython.core.display.Markdown object>"
      ]
     },
     "metadata": {},
     "output_type": "display_data"
    }
   ],
   "source": [
    "call_multi_agent_system(graph, \"Fetch KPI, SHAP and scores for customer_id = 'CUST_003' and then plot rsrp and sinr as bar chart\")\n"
   ]
  },
  {
   "cell_type": "code",
   "execution_count": 230,
   "id": "a138e710",
   "metadata": {},
   "outputs": [
    {
     "name": "stdout",
     "output_type": "stream",
     "text": [
      "================================\u001b[1m Human Message \u001b[0m=================================\n",
      "\n",
      "Fetch KPI, SHAP and scores for customer_id = 'CUST_005' and explain it\n",
      "================================\u001b[1m Human Message \u001b[0m=================================\n",
      "\n",
      "Fetch KPI, SHAP and scores for customer_id = 'CUST_005' and explain it\n",
      "================================\u001b[1m Human Message \u001b[0m=================================\n",
      "Name: researcher\n",
      "\n",
      "Here is the answer in markdown format:\n",
      "\n",
      "**KPI, SHAP and scores for customer_id = 'CUST_005'**\n",
      "\n",
      "**Scores:**\n",
      "\n",
      "* main_score: 1.19\n",
      "* signal_quality_subscore: 9.73\n",
      "\n",
      "**Features:**\n",
      "\n",
      "* rsrp: 49.23\n",
      "* sinr: 53.41\n",
      "* SHAP values:\n",
      "\t+ shap_rsrp: 2.77\n",
      "\t+ shap_sinr: 8.27\n",
      "================================\u001b[1m Human Message \u001b[0m=================================\n",
      "Name: researcher\n",
      "\n",
      "Here is the answer in markdown format:\n",
      "\n",
      "**KPI, SHAP and scores for customer_id = 'CUST_005'**\n",
      "\n",
      "**Scores:**\n",
      "\n",
      "* main_score: 1.19\n",
      "* signal_quality_subscore: 9.73\n",
      "\n",
      "**Features:**\n",
      "\n",
      "* rsrp: 49.23\n",
      "* sinr: 53.41\n",
      "* SHAP values:\n",
      "\t+ shap_rsrp: 2.77\n",
      "\t+ shap_sinr: 8.27\n",
      "================================\u001b[1m Human Message \u001b[0m=================================\n",
      "Name: insights_generator\n",
      "\n",
      "**Customer Experience Summary for CUST_005**\n",
      "\n",
      "The overall experience score for CUST_005 is 1.19, indicating a relatively poor experience. However, the signal quality subscore is 9.73, suggesting that the customer's signal quality is excellent. Let's dive deeper into the KPIs and SHAP values to understand the reasons behind this score.\n",
      "\n",
      "**Key Contributors to the Experience Score:**\n",
      "\n",
      "* **Signal to Interference plus Noise Ratio (SINR)**: With a value of 53.41, SINR is positively contributing to the experience score. The SHAP value of 8.27 confirms that SINR is a significant factor in the high signal quality subscore.\n",
      "* **Reference Signal Received Power (RSRP)**: Although the RSRP value of 49.23 is not exceptionally high, its SHAP value of 2.77 indicates that it is still positively impacting the experience score.\n",
      "\n",
      "**Discrepancies and Insights:**\n",
      "\n",
      "* Despite the excellent signal quality subscore, the overall experience score is low. This suggests that other factors not captured by the provided KPIs might be influencing the customer's experience.\n",
      "* The SHAP values align with the KPI values, indicating that the model is correctly identifying the most important contributors to the experience score.\n",
      "* The high SINR value and its corresponding SHAP value are the primary reasons for the high signal quality subscore.\n",
      "\n",
      "**Actionable Insights:**\n",
      "\n",
      "* To improve the overall experience score, it's essential to investigate and address other factors that might be affecting the customer's experience, as the signal quality appears to be satisfactory.\n",
      "* The network performance in terms of SINR and RSRP is satisfactory, but it's crucial to monitor these KPIs to ensure they remain within optimal ranges.\n",
      "\n",
      "By understanding the relationships between these KPIs and SHAP values, we can provide targeted improvements to enhance the customer's overall experience.\n",
      "================================\u001b[1m Human Message \u001b[0m=================================\n",
      "Name: insights_generator\n",
      "\n",
      "**Customer Experience Summary for CUST_005**\n",
      "\n",
      "The overall experience score for CUST_005 is 1.19, indicating a relatively poor experience. However, the signal quality subscore is 9.73, suggesting that the customer's signal quality is excellent. Let's dive deeper into the KPIs and SHAP values to understand the reasons behind this score.\n",
      "\n",
      "**Key Contributors to the Experience Score:**\n",
      "\n",
      "* **Signal to Interference plus Noise Ratio (SINR)**: With a value of 53.41, SINR is positively contributing to the experience score. The SHAP value of 8.27 confirms that SINR is a significant factor in the high signal quality subscore.\n",
      "* **Reference Signal Received Power (RSRP)**: Although the RSRP value of 49.23 is not exceptionally high, its SHAP value of 2.77 indicates that it is still positively impacting the experience score.\n",
      "\n",
      "**Discrepancies and Insights:**\n",
      "\n",
      "* Despite the excellent signal quality subscore, the overall experience score is low. This suggests that other factors not captured by the provided KPIs might be influencing the customer's experience.\n",
      "* The SHAP values align with the KPI values, indicating that the model is correctly identifying the most important contributors to the experience score.\n",
      "* The high SINR value and its corresponding SHAP value are the primary reasons for the high signal quality subscore.\n",
      "\n",
      "**Actionable Insights:**\n",
      "\n",
      "* To improve the overall experience score, it's essential to investigate and address other factors that might be affecting the customer's experience, as the signal quality appears to be satisfactory.\n",
      "* The network performance in terms of SINR and RSRP is satisfactory, but it's crucial to monitor these KPIs to ensure they remain within optimal ranges.\n",
      "\n",
      "By understanding the relationships between these KPIs and SHAP values, we can provide targeted improvements to enhance the customer's overall experience.\n"
     ]
    },
    {
     "data": {
      "text/markdown": [
       "**Customer Experience Summary for CUST_005**\n",
       "\n",
       "The overall experience score for CUST_005 is 1.19, indicating a relatively poor experience. However, the signal quality subscore is 9.73, suggesting that the customer's signal quality is excellent. Let's dive deeper into the KPIs and SHAP values to understand the reasons behind this score.\n",
       "\n",
       "**Key Contributors to the Experience Score:**\n",
       "\n",
       "* **Signal to Interference plus Noise Ratio (SINR)**: With a value of 53.41, SINR is positively contributing to the experience score. The SHAP value of 8.27 confirms that SINR is a significant factor in the high signal quality subscore.\n",
       "* **Reference Signal Received Power (RSRP)**: Although the RSRP value of 49.23 is not exceptionally high, its SHAP value of 2.77 indicates that it is still positively impacting the experience score.\n",
       "\n",
       "**Discrepancies and Insights:**\n",
       "\n",
       "* Despite the excellent signal quality subscore, the overall experience score is low. This suggests that other factors not captured by the provided KPIs might be influencing the customer's experience.\n",
       "* The SHAP values align with the KPI values, indicating that the model is correctly identifying the most important contributors to the experience score.\n",
       "* The high SINR value and its corresponding SHAP value are the primary reasons for the high signal quality subscore.\n",
       "\n",
       "**Actionable Insights:**\n",
       "\n",
       "* To improve the overall experience score, it's essential to investigate and address other factors that might be affecting the customer's experience, as the signal quality appears to be satisfactory.\n",
       "* The network performance in terms of SINR and RSRP is satisfactory, but it's crucial to monitor these KPIs to ensure they remain within optimal ranges.\n",
       "\n",
       "By understanding the relationships between these KPIs and SHAP values, we can provide targeted improvements to enhance the customer's overall experience."
      ],
      "text/plain": [
       "<IPython.core.display.Markdown object>"
      ]
     },
     "metadata": {},
     "output_type": "display_data"
    }
   ],
   "source": [
    "call_multi_agent_system(graph, \"Fetch KPI, SHAP and scores for customer_id = 'CUST_005' and explain it\")\n"
   ]
  },
  {
   "cell_type": "code",
   "execution_count": 364,
   "id": "7e669bbb",
   "metadata": {},
   "outputs": [
    {
     "name": "stdout",
     "output_type": "stream",
     "text": [
      "================================\u001b[1m Human Message \u001b[0m=================================\n",
      "\n",
      "Fetch KPI, SHAP and scores for customer_id = 'CUST_004' and explain it\n",
      "================================\u001b[1m Human Message \u001b[0m=================================\n",
      "\n",
      "Fetch KPI, SHAP and scores for customer_id = 'CUST_004' and explain it\n",
      "================================\u001b[1m Human Message \u001b[0m=================================\n",
      "Name: researcher\n",
      "\n",
      "Here is the answer in markdown format:\n",
      "\n",
      "**KPI, SHAP and scores for customer_id = 'CUST_004'**\n",
      "\n",
      "**Scores:**\n",
      "\n",
      "* main_score: 6.41\n",
      "* signal_quality_subscore: 7.37\n",
      "\n",
      "**Features:**\n",
      "\n",
      "* rsrp: 47.55\n",
      "* sinr: 42.46\n",
      "* SHAP values:\n",
      "\t+ shap_rsrp: -8.9\n",
      "\t+ shap_sinr: -8.16\n",
      "================================\u001b[1m Human Message \u001b[0m=================================\n",
      "Name: researcher\n",
      "\n",
      "Here is the answer in markdown format:\n",
      "\n",
      "**KPI, SHAP and scores for customer_id = 'CUST_004'**\n",
      "\n",
      "**Scores:**\n",
      "\n",
      "* main_score: 6.41\n",
      "* signal_quality_subscore: 7.37\n",
      "\n",
      "**Features:**\n",
      "\n",
      "* rsrp: 47.55\n",
      "* sinr: 42.46\n",
      "* SHAP values:\n",
      "\t+ shap_rsrp: -8.9\n",
      "\t+ shap_sinr: -8.16\n",
      "================================\u001b[1m Human Message \u001b[0m=================================\n",
      "Name: researcher\n",
      "\n",
      "Here is the answer in markdown format:\n",
      "\n",
      "**KPI, SHAP and scores for customer_id = 'CUST_004'**\n",
      "\n",
      "**Scores:**\n",
      "\n",
      "* main_score: 6.41\n",
      "* signal_quality_subscore: 7.37\n",
      "\n",
      "**Features:**\n",
      "\n",
      "* rsrp: 47.55\n",
      "* sinr: 42.46\n",
      "* SHAP values:\n",
      "\t+ shap_rsrp: -8.9\n",
      "\t+ shap_sinr: -8.16\n",
      "================================\u001b[1m Human Message \u001b[0m=================================\n",
      "Name: researcher\n",
      "\n",
      "Here is the answer in markdown format:\n",
      "\n",
      "**KPI, SHAP and scores for customer_id = 'CUST_004'**\n",
      "\n",
      "**Scores:**\n",
      "\n",
      "* main_score: 6.41\n",
      "* signal_quality_subscore: 7.37\n",
      "\n",
      "**Features:**\n",
      "\n",
      "* rsrp: 47.55\n",
      "* sinr: 42.46\n",
      "* SHAP values:\n",
      "\t+ shap_rsrp: -8.9\n",
      "\t+ shap_sinr: -8.16\n",
      "================================\u001b[1m Human Message \u001b[0m=================================\n",
      "Name: researcher\n",
      "\n",
      "I have all the information I need. Here is the answer in markdown format:\n",
      "\n",
      "**KPI, SHAP and scores for customer_id = 'CUST_004'**\n",
      "\n",
      "**Scores:**\n",
      "\n",
      "* main_score: 6.41\n",
      "* signal_quality_subscore: 7.37\n",
      "\n",
      "**Features:**\n",
      "\n",
      "* rsrp: 47.55\n",
      "* sinr: 42.46\n",
      "* SHAP values:\n",
      "\t+ shap_rsrp: -8.9\n",
      "\t+ shap_sinr: -8.16\n",
      "================================\u001b[1m Human Message \u001b[0m=================================\n",
      "Name: researcher\n",
      "\n",
      "I have all the information I need. Here is the answer in markdown format:\n",
      "\n",
      "**KPI, SHAP and scores for customer_id = 'CUST_004'**\n",
      "\n",
      "**Scores:**\n",
      "\n",
      "* main_score: 6.41\n",
      "* signal_quality_subscore: 7.37\n",
      "\n",
      "**Features:**\n",
      "\n",
      "* rsrp: 47.55\n",
      "* sinr: 42.46\n",
      "* SHAP values:\n",
      "\t+ shap_rsrp: -8.9\n",
      "\t+ shap_sinr: -8.16\n",
      "================================\u001b[1m Human Message \u001b[0m=================================\n",
      "Name: insights_generator\n",
      "\n",
      "Here is a natural language summary explaining why the customer's experience score is the way it is:\n",
      "\n",
      "**Summary:**\n",
      "\n",
      "The customer with ID CUST_004 has an overall experience score of 6.41, which is slightly below average. The signal quality subscore is 7.37, indicating that the customer's signal quality is relatively good. However, our analysis reveals that two key performance indicators (KPIs) are negatively impacting the customer's experience score.\n",
      "\n",
      "**Key Findings:**\n",
      "\n",
      "1. **Reference Signal Received Power (rsrp)**: The rsrp value of 47.55 is lower than expected, which is negatively contributing to the experience score. The SHAP value of -8.9 confirms that this KPI is having a significant negative impact on the score.\n",
      "2. **Signal to Interference plus Noise Ratio (sinr)**: The sinr value of 42.46 is also lower than expected, which is negatively affecting the experience score. The SHAP value of -8.16 supports this finding, indicating that sinr is another key contributor to the low score.\n",
      "\n",
      "**Insights:**\n",
      "\n",
      "* Both rsrp and sinr are negatively impacting the customer's experience score, suggesting that the customer is experiencing poor signal quality, which is affecting their overall experience.\n",
      "* The SHAP values align with the KPI values, indicating that the model is accurately identifying the key drivers of the experience score.\n",
      "* The main reason for the low score is the poor signal quality, which is likely causing issues with connectivity, speed, and overall performance.\n",
      "\n",
      "**Actionable Recommendations:**\n",
      "\n",
      "* To improve the customer's experience, we recommend optimizing the signal quality by adjusting the network configuration, increasing the signal strength, or reducing interference and noise.\n",
      "* Further investigation is needed to identify the root cause of the poor signal quality and to develop targeted solutions to address this issue.\n",
      "\n",
      "By providing this summary, stakeholders can quickly understand the key factors contributing to the customer's experience score and take targeted actions to improve it.\n",
      "================================\u001b[1m Human Message \u001b[0m=================================\n",
      "Name: insights_generator\n",
      "\n",
      "Here is a natural language summary explaining why the customer's experience score is the way it is:\n",
      "\n",
      "**Summary:**\n",
      "\n",
      "The customer with ID CUST_004 has an overall experience score of 6.41, which is slightly below average. The signal quality subscore is 7.37, indicating that the customer's signal quality is relatively good. However, our analysis reveals that two key performance indicators (KPIs) are negatively impacting the customer's experience score.\n",
      "\n",
      "**Key Findings:**\n",
      "\n",
      "1. **Reference Signal Received Power (rsrp)**: The rsrp value of 47.55 is lower than expected, which is negatively contributing to the experience score. The SHAP value of -8.9 confirms that this KPI is having a significant negative impact on the score.\n",
      "2. **Signal to Interference plus Noise Ratio (sinr)**: The sinr value of 42.46 is also lower than expected, which is negatively affecting the experience score. The SHAP value of -8.16 supports this finding, indicating that sinr is another key contributor to the low score.\n",
      "\n",
      "**Insights:**\n",
      "\n",
      "* Both rsrp and sinr are negatively impacting the customer's experience score, suggesting that the customer is experiencing poor signal quality, which is affecting their overall experience.\n",
      "* The SHAP values align with the KPI values, indicating that the model is accurately identifying the key drivers of the experience score.\n",
      "* The main reason for the low score is the poor signal quality, which is likely causing issues with connectivity, speed, and overall performance.\n",
      "\n",
      "**Actionable Recommendations:**\n",
      "\n",
      "* To improve the customer's experience, we recommend optimizing the signal quality by adjusting the network configuration, increasing the signal strength, or reducing interference and noise.\n",
      "* Further investigation is needed to identify the root cause of the poor signal quality and to develop targeted solutions to address this issue.\n",
      "\n",
      "By providing this summary, stakeholders can quickly understand the key factors contributing to the customer's experience score and take targeted actions to improve it.\n"
     ]
    },
    {
     "data": {
      "text/markdown": [
       "Here is a natural language summary explaining why the customer's experience score is the way it is:\n",
       "\n",
       "**Summary:**\n",
       "\n",
       "The customer with ID CUST_004 has an overall experience score of 6.41, which is slightly below average. The signal quality subscore is 7.37, indicating that the customer's signal quality is relatively good. However, our analysis reveals that two key performance indicators (KPIs) are negatively impacting the customer's experience score.\n",
       "\n",
       "**Key Findings:**\n",
       "\n",
       "1. **Reference Signal Received Power (rsrp)**: The rsrp value of 47.55 is lower than expected, which is negatively contributing to the experience score. The SHAP value of -8.9 confirms that this KPI is having a significant negative impact on the score.\n",
       "2. **Signal to Interference plus Noise Ratio (sinr)**: The sinr value of 42.46 is also lower than expected, which is negatively affecting the experience score. The SHAP value of -8.16 supports this finding, indicating that sinr is another key contributor to the low score.\n",
       "\n",
       "**Insights:**\n",
       "\n",
       "* Both rsrp and sinr are negatively impacting the customer's experience score, suggesting that the customer is experiencing poor signal quality, which is affecting their overall experience.\n",
       "* The SHAP values align with the KPI values, indicating that the model is accurately identifying the key drivers of the experience score.\n",
       "* The main reason for the low score is the poor signal quality, which is likely causing issues with connectivity, speed, and overall performance.\n",
       "\n",
       "**Actionable Recommendations:**\n",
       "\n",
       "* To improve the customer's experience, we recommend optimizing the signal quality by adjusting the network configuration, increasing the signal strength, or reducing interference and noise.\n",
       "* Further investigation is needed to identify the root cause of the poor signal quality and to develop targeted solutions to address this issue.\n",
       "\n",
       "By providing this summary, stakeholders can quickly understand the key factors contributing to the customer's experience score and take targeted actions to improve it."
      ],
      "text/plain": [
       "<IPython.core.display.Markdown object>"
      ]
     },
     "metadata": {},
     "output_type": "display_data"
    }
   ],
   "source": [
    "call_multi_agent_system(graph, \"Fetch KPI, SHAP and scores for customer_id = 'CUST_004' and explain it\")\n"
   ]
  },
  {
   "cell_type": "code",
   "execution_count": null,
   "id": "9d3cd0ea",
   "metadata": {},
   "outputs": [
    {
     "name": "stdout",
     "output_type": "stream",
     "text": [
      "================================\u001b[1m Human Message \u001b[0m=================================\n",
      "\n",
      "Fetch KPI, SHAP and scores for customer_id = 'CUST_004' and explain it \n",
      "================================\u001b[1m Human Message \u001b[0m=================================\n",
      "\n",
      "Fetch KPI, SHAP and scores for customer_id = 'CUST_004' and explain it \n",
      "================================\u001b[1m Human Message \u001b[0m=================================\n",
      "Name: researcher\n",
      "\n",
      "Here is the answer in markdown format:\n",
      "\n",
      "For customer_id 'CUST_004':\n",
      "\n",
      "* KPIs:\n",
      "  * rsrp: 47.55\n",
      "  * sinr: 42.46\n",
      "* SHAP values:\n",
      "  * shap_rsrp: -8.9\n",
      "  * shap_sinr: -8.16\n",
      "* Scores:\n",
      "  * main_score: 6.41\n",
      "  * signal_quality_subscore: 7.37\n",
      "================================\u001b[1m Human Message \u001b[0m=================================\n",
      "Name: researcher\n",
      "\n",
      "Here is the answer in markdown format:\n",
      "\n",
      "For customer_id 'CUST_004':\n",
      "\n",
      "* KPIs:\n",
      "  * rsrp: 47.55\n",
      "  * sinr: 42.46\n",
      "* SHAP values:\n",
      "  * shap_rsrp: -8.9\n",
      "  * shap_sinr: -8.16\n",
      "* Scores:\n",
      "  * main_score: 6.41\n",
      "  * signal_quality_subscore: 7.37\n",
      "================================\u001b[1m Human Message \u001b[0m=================================\n",
      "Name: researcher\n",
      "\n",
      "Here is the answer in markdown format:\n",
      "\n",
      "For customer_id 'CUST_004':\n",
      "\n",
      "* KPIs:\n",
      "  * rsrp: 47.55\n",
      "  * sinr: 42.46\n",
      "* SHAP values:\n",
      "  * (No SHAP values available for this customer)\n",
      "* Scores:\n",
      "  * main_score: 6.41\n",
      "  * signal_quality_subscore: 7.37\n",
      "================================\u001b[1m Human Message \u001b[0m=================================\n",
      "Name: researcher\n",
      "\n",
      "Here is the answer in markdown format:\n",
      "\n",
      "For customer_id 'CUST_004':\n",
      "\n",
      "* KPIs:\n",
      "  * rsrp: 47.55\n",
      "  * sinr: 42.46\n",
      "* SHAP values:\n",
      "  * (No SHAP values available for this customer)\n",
      "* Scores:\n",
      "  * main_score: 6.41\n",
      "  * signal_quality_subscore: 7.37\n",
      "================================\u001b[1m Human Message \u001b[0m=================================\n",
      "Name: researcher\n",
      "\n",
      "Here is the answer in markdown format:\n",
      "\n",
      "For customer_id 'CUST_004':\n",
      "\n",
      "* KPIs:\n",
      "  * rsrp: 47.55\n",
      "  * sinr: 42.46\n",
      "* SHAP values:\n",
      "  * (No SHAP values available for this customer)\n",
      "* Scores:\n",
      "  * main_score: 6.41\n",
      "  * signal_quality_subscore: 7.37\n",
      "================================\u001b[1m Human Message \u001b[0m=================================\n",
      "Name: researcher\n",
      "\n",
      "Here is the answer in markdown format:\n",
      "\n",
      "For customer_id 'CUST_004':\n",
      "\n",
      "* KPIs:\n",
      "  * rsrp: 47.55\n",
      "  * sinr: 42.46\n",
      "* SHAP values:\n",
      "  * (No SHAP values available for this customer)\n",
      "* Scores:\n",
      "  * main_score: 6.41\n",
      "  * signal_quality_subscore: 7.37\n",
      "================================\u001b[1m Human Message \u001b[0m=================================\n",
      "Name: insights_generator\n",
      "\n",
      "**Customer Experience Summary for CUST_004**\n",
      "\n",
      "The overall experience score for CUST_004 is 6.41, indicating a somewhat satisfactory experience. Let's dive deeper into the contributing factors.\n",
      "\n",
      "**Signal Quality Subscore: 7.37**\n",
      "The signal quality subscore is relatively high, which is a positive aspect of the customer's experience. However, it's not perfect, and we can identify areas for improvement.\n",
      "\n",
      "**KPI Contributions:**\n",
      "\n",
      "* **Reference Signal Received Power (RSRP): 47.55**: This KPI value is relatively low, which negatively impacts the experience score. A lower RSRP indicates weaker signal strength, leading to potential connectivity issues.\n",
      "* **Signal to Interference plus Noise Ratio (SINR): 42.46**: This KPI value is also relatively low, contributing to the negative impact on the experience score. A lower SINR indicates higher interference and noise levels, affecting signal quality.\n",
      "\n",
      "**SHAP Value Insights:**\n",
      "\n",
      "* **Reference Signal Received Power SHAP value: -8.9**: This SHAP value aligns with the low RSRP KPI value, indicating that the weak signal strength is a significant contributor to the lower experience score.\n",
      "* **Signal to Interference plus Noise Ratio SHAP value: -8.16**: Similarly, this SHAP value aligns with the low SINR KPI value, highlighting the negative impact of high interference and noise levels on the experience score.\n",
      "\n",
      "**Key Takeaways:**\n",
      "\n",
      "* The low RSRP and SINR KPI values are the primary contributors to the relatively low experience score.\n",
      "* The SHAP values confirm that these KPIs are indeed driving the negative impact on the experience score.\n",
      "* To improve the customer experience, we should focus on enhancing signal strength and reducing interference and noise levels.\n",
      "\n",
      "**Actionable Insights:**\n",
      "\n",
      "* Network optimization efforts should prioritize improving signal strength and reducing interference in the customer's area.\n",
      "* Consider upgrading or repositioning cell towers to enhance signal quality.\n",
      "* Regularly monitor KPIs and SHAP values to ensure that optimization efforts are effective in improving the customer experience.\n",
      "\n",
      "By addressing these key areas, we can improve the overall experience score for CUST_004 and provide a better service to our customer.\n",
      "================================\u001b[1m Human Message \u001b[0m=================================\n",
      "Name: insights_generator\n",
      "\n",
      "**Customer Experience Summary for CUST_004**\n",
      "\n",
      "The overall experience score for CUST_004 is 6.41, indicating a somewhat satisfactory experience. Let's dive deeper into the contributing factors.\n",
      "\n",
      "**Signal Quality Subscore: 7.37**\n",
      "The signal quality subscore is relatively high, which is a positive aspect of the customer's experience. However, it's not perfect, and we can identify areas for improvement.\n",
      "\n",
      "**KPI Contributions:**\n",
      "\n",
      "* **Reference Signal Received Power (RSRP): 47.55**: This KPI value is relatively low, which negatively impacts the experience score. A lower RSRP indicates weaker signal strength, leading to potential connectivity issues.\n",
      "* **Signal to Interference plus Noise Ratio (SINR): 42.46**: This KPI value is also relatively low, contributing to the negative impact on the experience score. A lower SINR indicates higher interference and noise levels, affecting signal quality.\n",
      "\n",
      "**SHAP Value Insights:**\n",
      "\n",
      "* **Reference Signal Received Power SHAP value: -8.9**: This SHAP value aligns with the low RSRP KPI value, indicating that the weak signal strength is a significant contributor to the lower experience score.\n",
      "* **Signal to Interference plus Noise Ratio SHAP value: -8.16**: Similarly, this SHAP value aligns with the low SINR KPI value, highlighting the negative impact of high interference and noise levels on the experience score.\n",
      "\n",
      "**Key Takeaways:**\n",
      "\n",
      "* The low RSRP and SINR KPI values are the primary contributors to the relatively low experience score.\n",
      "* The SHAP values confirm that these KPIs are indeed driving the negative impact on the experience score.\n",
      "* To improve the customer experience, we should focus on enhancing signal strength and reducing interference and noise levels.\n",
      "\n",
      "**Actionable Insights:**\n",
      "\n",
      "* Network optimization efforts should prioritize improving signal strength and reducing interference in the customer's area.\n",
      "* Consider upgrading or repositioning cell towers to enhance signal quality.\n",
      "* Regularly monitor KPIs and SHAP values to ensure that optimization efforts are effective in improving the customer experience.\n",
      "\n",
      "By addressing these key areas, we can improve the overall experience score for CUST_004 and provide a better service to our customer.\n",
      "================================\u001b[1m Human Message \u001b[0m=================================\n",
      "Name: researcher\n",
      "\n",
      "Here is the answer in markdown format:\n",
      "\n",
      "For customer_id 'CUST_004':\n",
      "\n",
      "* KPIs:\n",
      "  * rsrp: 47.55\n",
      "  * sinr: 42.46\n",
      "* SHAP values:\n",
      "  * shap_rsrp: -8.9\n",
      "  * shap_sinr: -8.16\n",
      "* Scores:\n",
      "  * main_score: 6.41\n",
      "  * signal_quality_subscore: 7.37\n",
      "================================\u001b[1m Human Message \u001b[0m=================================\n",
      "Name: researcher\n",
      "\n",
      "Here is the answer in markdown format:\n",
      "\n",
      "For customer_id 'CUST_004':\n",
      "\n",
      "* KPIs:\n",
      "  * rsrp: 47.55\n",
      "  * sinr: 42.46\n",
      "* SHAP values:\n",
      "  * shap_rsrp: -8.9\n",
      "  * shap_sinr: -8.16\n",
      "* Scores:\n",
      "  * main_score: 6.41\n",
      "  * signal_quality_subscore: 7.37\n"
     ]
    },
    {
     "data": {
      "image/png": "[encoded data removed]",
      "text/plain": [
       "<Figure size 640x480 with 1 Axes>"
      ]
     },
     "metadata": {},
     "output_type": "display_data"
    },
    {
     "name": "stdout",
     "output_type": "stream",
     "text": [
      "================================\u001b[1m Human Message \u001b[0m=================================\n",
      "Name: coder\n",
      "\n",
      "The code has been executed successfully, and a bar chart has been generated to visualize the KPIs for customer CUST_004. The chart shows the values of rsrp and sinr, which are 47.55 and 42.46, respectively.\n"
     ]
    },
    {
     "data": {
      "text/markdown": [
       "The code has been executed successfully, and a bar chart has been generated to visualize the KPIs for customer CUST_004. The chart shows the values of rsrp and sinr, which are 47.55 and 42.46, respectively."
      ],
      "text/plain": [
       "<IPython.core.display.Markdown object>"
      ]
     },
     "metadata": {},
     "output_type": "display_data"
    }
   ],
   "source": [
    "call_multi_agent_system(graph, \"Fetch KPI, SHAP and scores for customer_id = 'CUST_004' and explain it and then plot rsrp and sinr as bar chart\")\n"
   ]
  },
  {
   "cell_type": "code",
   "execution_count": 152,
   "id": "f58416b7",
   "metadata": {},
   "outputs": [
    {
     "name": "stdout",
     "output_type": "stream",
     "text": [
      "================================\u001b[1m Human Message \u001b[0m=================================\n",
      "\n",
      " fetch the score value for all customers calculate the deciles ranging from 1 to 10 \n",
      "and plot the total customers against these deciles in a bar chart\n",
      "================================\u001b[1m Human Message \u001b[0m=================================\n",
      "\n",
      " fetch the score value for all customers calculate the deciles ranging from 1 to 10 \n",
      "and plot the total customers against these deciles in a bar chart\n",
      "================================\u001b[1m Human Message \u001b[0m=================================\n",
      "Name: researcher\n",
      "\n",
      "Here is the answer in Markdown format:\n",
      "\n",
      "| Decile | Count |\n",
      "| --- | --- |\n",
      "| Decile 1 | 20 |\n",
      "| Decile 2 | 20 |\n",
      "| Decile 3 | 20 |\n",
      "| Decile 4 | 20 |\n",
      "| Decile 5 | 20 |\n",
      "| Decile 6 | 20 |\n",
      "| Decile 7 | 20 |\n",
      "| Decile 8 | 20 |\n",
      "| Decile 9 | 20 |\n",
      "| Decile 10 | 20 |\n",
      "================================\u001b[1m Human Message \u001b[0m=================================\n",
      "Name: researcher\n",
      "\n",
      "Here is the answer in Markdown format:\n",
      "\n",
      "| Decile | Count |\n",
      "| --- | --- |\n",
      "| Decile 1 | 20 |\n",
      "| Decile 2 | 20 |\n",
      "| Decile 3 | 20 |\n",
      "| Decile 4 | 20 |\n",
      "| Decile 5 | 20 |\n",
      "| Decile 6 | 20 |\n",
      "| Decile 7 | 20 |\n",
      "| Decile 8 | 20 |\n",
      "| Decile 9 | 20 |\n",
      "| Decile 10 | 20 |\n"
     ]
    },
    {
     "data": {
      "image/png": "[encoded data removed]",
      "text/plain": [
       "<Figure size 640x480 with 1 Axes>"
      ]
     },
     "metadata": {},
     "output_type": "display_data"
    },
    {
     "name": "stdout",
     "output_type": "stream",
     "text": [
      "================================\u001b[1m Human Message \u001b[0m=================================\n",
      "Name: coder\n",
      "\n",
      "The code has been successfully executed and the bar chart has been plotted. The chart shows the total customers against each decile, with 20 customers in each decile.\n",
      "================================\u001b[1m Human Message \u001b[0m=================================\n",
      "Name: coder\n",
      "\n",
      "The code has been successfully executed and the bar chart has been plotted. The chart shows the total customers against each decile, with 20 customers in each decile.\n"
     ]
    },
    {
     "data": {
      "text/markdown": [
       "The code has been successfully executed and the bar chart has been plotted. The chart shows the total customers against each decile, with 20 customers in each decile."
      ],
      "text/plain": [
       "<IPython.core.display.Markdown object>"
      ]
     },
     "metadata": {},
     "output_type": "display_data"
    }
   ],
   "source": [
    "# query = \"\"\"use sql agent to fetch and plot grouped bar chart for average feature values of different feature names ,\n",
    "#  for all customers against main_score score value deciled between 1 to 10 integer values. keep deciles in the x-axis and average feature values of different feature names in the y-axis\"\"\"\n",
    "query=  \"\"\" fetch the score value for all customers calculate the deciles ranging from 1 to 10 \n",
    "and plot the total customers against these deciles in a bar chart\"\"\"\n",
    "\n",
    "\n",
    "call_multi_agent_system(graph, query)"
   ]
  },
  {
   "cell_type": "code",
   "execution_count": null,
   "id": "40474a5d",
   "metadata": {},
   "outputs": [],
   "source": []
  },
  {
   "cell_type": "code",
   "execution_count": 206,
   "id": "4a7924be",
   "metadata": {},
   "outputs": [],
   "source": [
    "class State(TypedDict):\n",
    "    messages: Annotated[list, add_messages]\n",
    "    next: str\n",
    "    coder_task_done: bool"
   ]
  },
  {
   "cell_type": "code",
   "execution_count": 207,
   "id": "d1a49a1c",
   "metadata": {},
   "outputs": [
    {
     "name": "stdout",
     "output_type": "stream",
     "text": [
      "================================\u001b[1m Human Message \u001b[0m=================================\n",
      "\n",
      "Fetch all customers feature names and feature values and \n",
      "Plot rsrp feature against shap_rsrp as dependency plot for all customers\n"
     ]
    },
    {
     "name": "stdout",
     "output_type": "stream",
     "text": [
      "================================\u001b[1m Human Message \u001b[0m=================================\n",
      "\n",
      "Fetch all customers feature names and feature values and \n",
      "Plot rsrp feature against shap_rsrp as dependency plot for all customers\n",
      "================================\u001b[1m Human Message \u001b[0m=================================\n",
      "Name: researcher\n",
      "\n",
      "Here is the dependency plot of rsrp feature against shap_rsrp for all customers:\n",
      "\n",
      "```\n",
      "rsrp vs shap_rsrp\n",
      "===================\n",
      "43.2  | 2.93\n",
      "68.66 | -11.91\n",
      "40.25 | 11.59\n",
      "59.63 | 8.22\n",
      "47.55 | -8.9\n",
      "49.23 | 2.77\n",
      "50.13 | -2.65\n",
      "56.26 | -10.71\n",
      "47.77 | 4.73\n",
      "41.53 | -4.47\n",
      "52.14 | 1.73\n",
      "41.16 | 0.58\n",
      "53.58 | 10.83\n",
      "36.22 | 5.15\n",
      "55.15 | 5.71\n",
      "59.54 | -3.15\n",
      "42.27 | -4.85\n",
      "73.15 | 6.86\n",
      "45.28 | 0.64\n",
      "42.85 | -7.3\n",
      "50.46 | 21.44\n",
      "29.75 | -6.62\n",
      "42.07 | 5.05\n",
      "38.0  | -4.75\n",
      "67.65 | -12.61\n",
      "71.22 | -15.19\n",
      "62.67 | 4.44\n",
      "40.73 | -32.41\n",
      "47.47 | 16.32\n",
      "45.6  | 14.41\n",
      "61.63 | -9.82\n",
      "51.99 | 0.7\n",
      "51.14 | 15.86\n",
      "71.33 | -1.52\n",
      "52.81 | -2.08\n",
      "44.11 | 3.57\n",
      "59.0  | 8.13\n",
      "41.71 | 7.47\n",
      "49.79 | 12.78\n",
      "55.47 | -2.18\n",
      "58.25 | 13.05\n",
      "56.82 | 3.24\n",
      "50.97 | -8.18\n",
      "39.94 | 11.58\n",
      "56.24 | -0.12\n",
      "50.76 | 9.75\n",
      "41.75 | 4.13\n",
      "41.78 | 2.45\n",
      "45.29 | -14.48\n",
      "42.82 | 3.11\n",
      "58.58 | -0.19\n",
      "49.81 | 3.23\n",
      "55.19 | -1.09\n",
      "56.9  | 2.24\n",
      "50.98 | 0.25\n",
      "64.51 | 21.53\n",
      "58.72 | 21.9\n",
      "41.6  | -21.24\n",
      "42.41 | 3.42\n",
      "59.5  | -8.98\n",
      "36.8  | 11.79\n",
      "32.87 | -1.15\n",
      "34.06 | 0.05\n",
      "45.5  | -10.68\n",
      "51.2  | 7.12\n",
      "34.66 | 3.32\n",
      "65.51 | 11.79\n",
      "70.61 | -2.49\n",
      "56.45 | -9.65\n",
      "60.58 | -11.83\n",
      "47.31 | 15.02\n",
      "66.29 | -17.03\n",
      "53.84 | -20.67\n",
      "36.96 | 3.67\n",
      "44.86 | -0.63\n",
      "40.14 | -5.3\n",
      "48.93 | -5.54\n",
      "69.65 | -7.0\n",
      "48.88 | 6.14\n",
      "44.69 | -2.75\n",
      "34.85 | 16.45\n",
      "55.77 | 30.79\n",
      "48.72 | -16.06\n",
      "42.44 | -6.47\n",
      "66.87 | -0.08\n",
      "50.77 | 15.23\n",
      "39.63 | -8.76\n",
      "59.26 | -13.99\n",
      "43.49 | -5.92\n",
      "50.49 | 2.7\n",
      "47.61 | -5.77\n",
      "55.01 | 0.99\n",
      "33.31 | -6.63\n",
      "42.37 | -16.28\n",
      "52.6  | 6.39\n",
      "49.34 | -6.52\n",
      "41.4  | 10.06\n",
      "58.36 | 5.3\n",
      "25.28 | 5.77\n",
      "53.71 | 0.87\n",
      "```\n",
      "\n",
      "Note: The above plot is a text-based representation of the dependency plot. In a real-world scenario, this would be a graphical plot showing the relationship between rsrp and shap_rsrp features for all customers.\n",
      "================================\u001b[1m Human Message \u001b[0m=================================\n",
      "Name: researcher\n",
      "\n",
      "Here is the dependency plot of rsrp feature against shap_rsrp for all customers:\n",
      "\n",
      "```\n",
      "rsrp vs shap_rsrp\n",
      "===================\n",
      "43.2  | 2.93\n",
      "68.66 | -11.91\n",
      "40.25 | 11.59\n",
      "59.63 | 8.22\n",
      "47.55 | -8.9\n",
      "49.23 | 2.77\n",
      "50.13 | -2.65\n",
      "56.26 | -10.71\n",
      "47.77 | 4.73\n",
      "41.53 | -4.47\n",
      "52.14 | 1.73\n",
      "41.16 | 0.58\n",
      "53.58 | 10.83\n",
      "36.22 | 5.15\n",
      "55.15 | 5.71\n",
      "59.54 | -3.15\n",
      "42.27 | -4.85\n",
      "73.15 | 6.86\n",
      "45.28 | 0.64\n",
      "42.85 | -7.3\n",
      "50.46 | 21.44\n",
      "29.75 | -6.62\n",
      "42.07 | 5.05\n",
      "38.0  | -4.75\n",
      "67.65 | -12.61\n",
      "71.22 | -15.19\n",
      "62.67 | 4.44\n",
      "40.73 | -32.41\n",
      "47.47 | 16.32\n",
      "45.6  | 14.41\n",
      "61.63 | -9.82\n",
      "51.99 | 0.7\n",
      "51.14 | 15.86\n",
      "71.33 | -1.52\n",
      "52.81 | -2.08\n",
      "44.11 | 3.57\n",
      "59.0  | 8.13\n",
      "41.71 | 7.47\n",
      "49.79 | 12.78\n",
      "55.47 | -2.18\n",
      "58.25 | 13.05\n",
      "56.82 | 3.24\n",
      "50.97 | -8.18\n",
      "39.94 | 11.58\n",
      "56.24 | -0.12\n",
      "50.76 | 9.75\n",
      "41.75 | 4.13\n",
      "41.78 | 2.45\n",
      "45.29 | -14.48\n",
      "42.82 | 3.11\n",
      "58.58 | -0.19\n",
      "49.81 | 3.23\n",
      "55.19 | -1.09\n",
      "56.9  | 2.24\n",
      "50.98 | 0.25\n",
      "64.51 | 21.53\n",
      "58.72 | 21.9\n",
      "41.6  | -21.24\n",
      "42.41 | 3.42\n",
      "59.5  | -8.98\n",
      "36.8  | 11.79\n",
      "32.87 | -1.15\n",
      "34.06 | 0.05\n",
      "45.5  | -10.68\n",
      "51.2  | 7.12\n",
      "34.66 | 3.32\n",
      "65.51 | 11.79\n",
      "70.61 | -2.49\n",
      "56.45 | -9.65\n",
      "60.58 | -11.83\n",
      "47.31 | 15.02\n",
      "66.29 | -17.03\n",
      "53.84 | -20.67\n",
      "36.96 | 3.67\n",
      "44.86 | -0.63\n",
      "40.14 | -5.3\n",
      "48.93 | -5.54\n",
      "69.65 | -7.0\n",
      "48.88 | 6.14\n",
      "44.69 | -2.75\n",
      "34.85 | 16.45\n",
      "55.77 | 30.79\n",
      "48.72 | -16.06\n",
      "42.44 | -6.47\n",
      "66.87 | -0.08\n",
      "50.77 | 15.23\n",
      "39.63 | -8.76\n",
      "59.26 | -13.99\n",
      "43.49 | -5.92\n",
      "50.49 | 2.7\n",
      "47.61 | -5.77\n",
      "55.01 | 0.99\n",
      "33.31 | -6.63\n",
      "42.37 | -16.28\n",
      "52.6  | 6.39\n",
      "49.34 | -6.52\n",
      "41.4  | 10.06\n",
      "58.36 | 5.3\n",
      "25.28 | 5.77\n",
      "53.71 | 0.87\n",
      "```\n",
      "\n",
      "Note: The above plot is a text-based representation of the dependency plot. In a real-world scenario, this would be a graphical plot showing the relationship between rsrp and shap_rsrp features for all customers.\n"
     ]
    },
    {
     "data": {
      "image/png": "[encoded data removed]",
      "text/plain": [
       "<Figure size 640x480 with 1 Axes>"
      ]
     },
     "metadata": {},
     "output_type": "display_data"
    },
    {
     "name": "stdout",
     "output_type": "stream",
     "text": [
      "================================\u001b[1m Human Message \u001b[0m=================================\n",
      "Name: coder\n",
      "\n",
      "The code has been successfully executed, and the dependency plot of rsrp feature against shap_rsrp for all customers has been generated. The plot shows the relationship between the two features, with rsrp on the x-axis and shap_rsrp on the y-axis.\n"
     ]
    },
    {
     "data": {
      "text/markdown": [
       "The code has been successfully executed, and the dependency plot of rsrp feature against shap_rsrp for all customers has been generated. The plot shows the relationship between the two features, with rsrp on the x-axis and shap_rsrp on the y-axis."
      ],
      "text/plain": [
       "<IPython.core.display.Markdown object>"
      ]
     },
     "metadata": {},
     "output_type": "display_data"
    }
   ],
   "source": [
    "query = \"\"\"Fetch all customers feature names and feature values and \n",
    "Plot rsrp feature against shap_rsrp as dependency plot for all customers\"\"\"\n",
    "call_multi_agent_system(graph, query)"
   ]
  },
  {
   "cell_type": "code",
   "execution_count": 208,
   "id": "4acd8380",
   "metadata": {},
   "outputs": [
    {
     "name": "stdout",
     "output_type": "stream",
     "text": [
      "================================\u001b[1m Human Message \u001b[0m=================================\n",
      "\n",
      "Visualize the score and shap values for customer_id CUST_004 using a bar chart.\n",
      "================================\u001b[1m Human Message \u001b[0m=================================\n",
      "\n",
      "Visualize the score and shap values for customer_id CUST_004 using a bar chart.\n",
      "================================\u001b[1m Human Message \u001b[0m=================================\n",
      "Name: researcher\n",
      "\n",
      "Here is the answer in markdown format:\n",
      "\n",
      "**Score and SHAP Values for Customer ID CUST_004**\n",
      "\n",
      "**Scores:**\n",
      "\n",
      "| Score Name | Score Value |\n",
      "| --- | --- |\n",
      "| main_score | 6.41 |\n",
      "| signal_quality_subscore | 7.37 |\n",
      "\n",
      "**SHAP Values:**\n",
      "\n",
      "| Feature Name | Feature Value |\n",
      "| --- | --- |\n",
      "| rsrp | 47.55 |\n",
      "| sinr | 42.46 |\n",
      "| shap_rsrp | -8.9 |\n",
      "| shap_sinr | -8.16 |\n",
      "================================\u001b[1m Human Message \u001b[0m=================================\n",
      "Name: researcher\n",
      "\n",
      "Here is the answer in markdown format:\n",
      "\n",
      "**Score and SHAP Values for Customer ID CUST_004**\n",
      "\n",
      "**Scores:**\n",
      "\n",
      "| Score Name | Score Value |\n",
      "| --- | --- |\n",
      "| main_score | 6.41 |\n",
      "| signal_quality_subscore | 7.37 |\n",
      "\n",
      "**SHAP Values:**\n",
      "\n",
      "| Feature Name | Feature Value |\n",
      "| --- | --- |\n",
      "| rsrp | 47.55 |\n",
      "| sinr | 42.46 |\n",
      "| shap_rsrp | -8.9 |\n",
      "| shap_sinr | -8.16 |\n",
      "================================\u001b[1m Human Message \u001b[0m=================================\n",
      "Name: researcher\n",
      "\n",
      "**Score and SHAP Values for Customer ID CUST_004**\n",
      "\n",
      "**Scores:**\n",
      "\n",
      "| Score Name | Score Value |\n",
      "| --- | --- |\n",
      "| main_score | 6.41 |\n",
      "| signal_quality_subscore | 7.37 |\n",
      "\n",
      "**SHAP Values:**\n",
      "\n",
      "| Feature Name | Feature Value |\n",
      "| --- | --- |\n",
      "| rsrp | 47.55 |\n",
      "| sinr | 42.46 |\n",
      "| shap_rsrp | -8.9 |\n",
      "| shap_sinr | -8.16 |\n",
      "================================\u001b[1m Human Message \u001b[0m=================================\n",
      "Name: researcher\n",
      "\n",
      "**Score and SHAP Values for Customer ID CUST_004**\n",
      "\n",
      "**Scores:**\n",
      "\n",
      "| Score Name | Score Value |\n",
      "| --- | --- |\n",
      "| main_score | 6.41 |\n",
      "| signal_quality_subscore | 7.37 |\n",
      "\n",
      "**SHAP Values:**\n",
      "\n",
      "| Feature Name | Feature Value |\n",
      "| --- | --- |\n",
      "| rsrp | 47.55 |\n",
      "| sinr | 42.46 |\n",
      "| shap_rsrp | -8.9 |\n",
      "| shap_sinr | -8.16 |\n",
      "================================\u001b[1m Human Message \u001b[0m=================================\n",
      "Name: researcher\n",
      "\n",
      "I can now provide the answer in markdown format:\n",
      "\n",
      "**Score and SHAP Values for Customer ID CUST_004**\n",
      "\n",
      "**Scores:**\n",
      "\n",
      "| Score Name | Score Value |\n",
      "| --- | --- |\n",
      "| main_score | 6.41 |\n",
      "| signal_quality_subscore | 7.37 |\n",
      "\n",
      "**SHAP Values:**\n",
      "\n",
      "| Feature Name | Feature Value |\n",
      "| --- | --- |\n",
      "| rsrp | 47.55 |\n",
      "| sinr | 42.46 |\n",
      "| shap_rsrp | -8.9 |\n",
      "| shap_sinr | -8.16 |\n",
      "================================\u001b[1m Human Message \u001b[0m=================================\n",
      "Name: researcher\n",
      "\n",
      "I can now provide the answer in markdown format:\n",
      "\n",
      "**Score and SHAP Values for Customer ID CUST_004**\n",
      "\n",
      "**Scores:**\n",
      "\n",
      "| Score Name | Score Value |\n",
      "| --- | --- |\n",
      "| main_score | 6.41 |\n",
      "| signal_quality_subscore | 7.37 |\n",
      "\n",
      "**SHAP Values:**\n",
      "\n",
      "| Feature Name | Feature Value |\n",
      "| --- | --- |\n",
      "| rsrp | 47.55 |\n",
      "| sinr | 42.46 |\n",
      "| shap_rsrp | -8.9 |\n",
      "| shap_sinr | -8.16 |\n"
     ]
    },
    {
     "data": {
      "image/png": "[encoded data removed]",
      "text/plain": [
       "<Figure size 640x480 with 1 Axes>"
      ]
     },
     "metadata": {},
     "output_type": "display_data"
    },
    {
     "data": {
      "image/png": "[encoded data removed]",
      "text/plain": [
       "<Figure size 640x480 with 1 Axes>"
      ]
     },
     "metadata": {},
     "output_type": "display_data"
    },
    {
     "name": "stdout",
     "output_type": "stream",
     "text": [
      "================================\u001b[1m Human Message \u001b[0m=================================\n",
      "Name: coder\n",
      "\n",
      "The code has been executed successfully, and the bar charts for scores and SHAP values for customer ID CUST_004 have been generated.\n"
     ]
    },
    {
     "data": {
      "text/markdown": [
       "The code has been executed successfully, and the bar charts for scores and SHAP values for customer ID CUST_004 have been generated."
      ],
      "text/plain": [
       "<IPython.core.display.Markdown object>"
      ]
     },
     "metadata": {},
     "output_type": "display_data"
    }
   ],
   "source": [
    "call_multi_agent_system(graph, \"Visualize the score and shap values for customer_id CUST_004 using a bar chart.\")\n"
   ]
  },
  {
   "cell_type": "code",
   "execution_count": null,
   "id": "59e66795",
   "metadata": {},
   "outputs": [],
   "source": []
  }
 ],
 "metadata": {
  "kernelspec": {
   "display_name": "Python 3",
   "language": "python",
   "name": "python3"
  },
  "language_info": {
   "codemirror_mode": {
    "name": "ipython",
    "version": 3
   },
   "file_extension": ".py",
   "mimetype": "text/x-python",
   "name": "python",
   "nbconvert_exporter": "python",
   "pygments_lexer": "ipython3",
   "version": "3.11.8"
  }
 },
 "nbformat": 4,
 "nbformat_minor": 5
}
